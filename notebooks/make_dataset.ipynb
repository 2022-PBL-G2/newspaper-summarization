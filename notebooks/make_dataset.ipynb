{
  "cells": [
    {
      "attachments": {},
      "cell_type": "markdown",
      "metadata": {
        "id": "dnX-a5qU_O-C"
      },
      "source": [
        "\n",
        "\n",
        "# 本文と見出しを学習、検証データに分割（要約文でも可）\n",
        "\n"
      ]
    },
    {
      "cell_type": "code",
      "execution_count": null,
      "metadata": {
        "colab": {
          "base_uri": "https://localhost:8080/"
        },
        "id": "f97K9j75Bb5c",
        "outputId": "b793ec1b-85bf-45b6-ac4b-1d6c830b6e9e"
      },
      "outputs": [
        {
          "name": "stdout",
          "output_type": "stream",
          "text": [
            "Mounted at /content/drive\n"
          ]
        }
      ],
      "source": [
        "# Googleドライブのマウント\n",
        "\n",
        "from google.colab import drive\n",
        "drive.mount('/content/drive')"
      ]
    },
    {
      "cell_type": "code",
      "execution_count": null,
      "metadata": {
        "colab": {
          "base_uri": "https://localhost:8080/"
        },
        "id": "kGsZZT2OD4OR",
        "outputId": "6f7335c5-4da0-4331-d6f9-5b75ff5133fc"
      },
      "outputs": [
        {
          "name": "stdout",
          "output_type": "stream",
          "text": [
            "(255832,) (28426,) (255832,) (28426,)\n"
          ]
        }
      ],
      "source": [
        "import pandas as pd\n",
        "from sklearn.model_selection import train_test_split\n",
        "\n",
        "# ソ－ス+ターゲットのダウンロード(midasi or youyaku)\n",
        "input_dir = \"./drive/MyDrive/repos/pbl/\"\n",
        "train_src = pd.read_csv(input_dir+\"honbun.csv\", header=None)\n",
        "train_tgt = pd.read_csv(input_dir+\"midasi.csv\", header=None)\n",
        "\n",
        "# サイズ制限\n",
        "# train_src = train_src[:30000]\n",
        "# train_tgt = train_tgt[:30000]\n",
        "train_src = train_src.iloc[:, 0].str[:1200]\n",
        "train_tgt = train_tgt.iloc[:, 0].str[:1200]\n",
        "\n",
        "# 学習/検証に分割\n",
        "train_src, valid_src, train_tgt, valid_tgt = train_test_split(train_src, train_tgt, test_size=0.1, random_state=42)\n",
        "print(train_src.shape, valid_src.shape, train_tgt.shape, valid_tgt.shape)\n",
        "\n",
        "# ファイルに保存\n",
        "output_dir = \"./drive/MyDrive/repos/pbl/output/\"\n",
        "train_src.to_csv(output_dir+\"train.src\", index=False, header=None, encoding=\"utf-8-sig\")\n",
        "valid_src.to_csv(output_dir+\"valid.src\", index=False, header=None, encoding=\"utf-8-sig\")\n",
        "train_tgt.to_csv(output_dir+\"train.tgt\", index=False, header=None, encoding=\"utf-8-sig\")\n",
        "valid_tgt.to_csv(output_dir+\"valid.tgt\", index=False, header=None, encoding=\"utf-8-sig\")"
      ]
    },
    {
      "cell_type": "code",
      "execution_count": null,
      "metadata": {
        "colab": {
          "base_uri": "https://localhost:8080/"
        },
        "id": "lvbTJmMHQtnd",
        "outputId": "3158f608-2a82-4512-d0f9-12e2231ea5a5"
      },
      "outputs": [
        {
          "name": "stdout",
          "output_type": "stream",
          "text": [
            "(500, 1)\n",
            "今治市吉海町本庄の津倉地区で１１日、木造和船の<unk>伝馬が海を駆けた。地元の上野悦男さんは「何日も前から心が騒いでいた。客船と競漕した昔ほどの迫力はないけど上等よ」と笑った。\n"
          ]
        }
      ],
      "source": [
        "# 候補文のダウンロード\n",
        "# youyaku = pd.read_csv(input_dir+\"result.pred\", names=[\"sentence\"])\n",
        "# print(youyaku.shape)\n",
        "\n",
        "# 候補文から指定文字数以内のものを抽出\n",
        "# youyaku = youyaku[\"sentence\"].str.replace(\" \", \"\")\n",
        "# youyaku = youyaku[youyaku.str.len() < 50]\n",
        "# print(youyaku.shape)"
      ]
    },
    {
      "cell_type": "code",
      "execution_count": null,
      "metadata": {
        "colab": {
          "base_uri": "https://localhost:8080/"
        },
        "id": "aO-2ycRav_V1",
        "outputId": "748b50c5-7db4-4310-da44-471beaa3067e"
      },
      "outputs": [
        {
          "name": "stdout",
          "output_type": "stream",
          "text": [
            "(3270, 1) (3270, 1)\n"
          ]
        }
      ],
      "source": [
        "# import pandas as pd\n",
        "\n",
        "# input_dir = \"./drive/MyDrive/repos/pbl/test/\"\n",
        "# test_src = pd.read_csv(input_dir+\"test_honbun_noyouyaku.csv\")\n",
        "# test_tgt = pd.read_csv(input_dir+\"test_youyaku.csv\")\n",
        "\n",
        "# print(test_src.shape, test_tgt.shape)\n",
        "\n",
        "# test_src = test_src.iloc[:, 0].str[:1200]\n",
        "# test_tgt = test_tgt.iloc[:, 0].str[:1200]\n",
        "\n",
        "# output_dir = \"./drive/MyDrive/repos/pbl/output/\"\n",
        "# test_src.to_csv(output_dir+\"test.src\", index=False, header=None, encoding=\"utf-8-sig\")\n",
        "# test_tgt.to_csv(output_dir+\"test.tgt\", index=False, header=None, encoding=\"utf-8-sig\")"
      ]
    },
    {
      "cell_type": "code",
      "execution_count": null,
      "metadata": {
        "id": "v3R4TaeZaNvJ"
      },
      "outputs": [],
      "source": [
        "# import pandas as pd\n",
        "\n",
        "# input_dir = \"./drive/MyDrive/repos/pbl/\"\n",
        "# result_pred = pd.read_csv(input_dir+\"result-headline.pred\")\n",
        "# result_tgt = pd.read_csv(input_dir+\"result-headline.tgt\")\n",
        "\n",
        "# result_pred = result_pred.iloc[:, 0].str.replace(\" \", \"\")\n",
        "# result_tgt = result_tgt.iloc[:, 0].str.replace(\" \", \"\")\n",
        "\n",
        "# output_dir = \"./drive/MyDrive/repos/pbl/output/\"\n",
        "# result_pred.to_csv(output_dir+\"result-headline.pred\", index=False, header=None, encoding=\"utf-8-sig\")\n",
        "# result_tgt.to_csv(output_dir+\"result-headline.tgt\", index=False, header=None, encoding=\"utf-8-sig\")"
      ]
    }
  ],
  "metadata": {
    "colab": {
      "provenance": []
    },
    "kernelspec": {
      "display_name": "Python 3",
      "name": "python3"
    },
    "language_info": {
      "name": "python"
    }
  },
  "nbformat": 4,
  "nbformat_minor": 0
}
